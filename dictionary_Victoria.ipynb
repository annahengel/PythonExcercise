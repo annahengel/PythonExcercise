{
 "cells": [
  {
   "cell_type": "code",
   "execution_count": 34,
   "metadata": {},
   "outputs": [
    {
     "data": {
      "text/plain": [
       "True"
      ]
     },
     "execution_count": 34,
     "metadata": {},
     "output_type": "execute_result"
    }
   ],
   "source": [
    "#We need a dictionary to explain what hex numbers mean\n",
    "hexNumbers = {\n",
    "    \"0\": 0, \n",
    "    '1': 1,\n",
    "    '2':2,\n",
    "    \"3\":3,\n",
    "    \"4\":4,\n",
    "    \"5\":5,\n",
    "    \"6\":6,\n",
    "    \"7\":7,\n",
    "    \"8\":8,\n",
    "    \"9\":9,\n",
    "    \"A\":10,\n",
    "    \"B\":11,\n",
    "    \"C\":12,\n",
    "    \"D\":13,\n",
    "    \"E\":14,\n",
    "    \"F\":15\n",
    "}\n",
    "\n",
    "#Create a function to solve the hexdex\n",
    "def hextodec(hexNumber):\n",
    "    #hexNumber = hexNumbers.values()#how can I explain that the input should be within the range of my dictionary values?\n",
    "    # I haven't specified the \"hexNumber\" variable so how does it know what it means?\n",
    "    \n",
    "    upper_hexNumber = hexNumber.upper() # this capitalises - #F\n",
    "    return(hexNumbers[upper_hexNumber])\n",
    "#It didnt work when I had \"print\" before. Why?\n",
    "hextodec(\"f\") == 15\n",
    "\n",
    "\n",
    "\n",
    "\n"
   ]
  }
 ],
 "metadata": {
  "kernelspec": {
   "display_name": "Python 3",
   "language": "python",
   "name": "python3"
  },
  "language_info": {
   "codemirror_mode": {
    "name": "ipython",
    "version": 3
   },
   "file_extension": ".py",
   "mimetype": "text/x-python",
   "name": "python",
   "nbconvert_exporter": "python",
   "pygments_lexer": "ipython3",
   "version": "3.10.7"
  },
  "orig_nbformat": 4
 },
 "nbformat": 4,
 "nbformat_minor": 2
}
