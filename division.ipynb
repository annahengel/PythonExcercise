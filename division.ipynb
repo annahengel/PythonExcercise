{
 "cells": [
  {
   "cell_type": "code",
   "execution_count": 6,
   "metadata": {},
   "outputs": [
    {
     "data": {
      "text/plain": [
       "2.3333333333333335"
      ]
     },
     "execution_count": 6,
     "metadata": {},
     "output_type": "execute_result"
    }
   ],
   "source": [
    "dividedef calculator(a,b):\n",
    "\n",
    "    def sum(a,b):\n",
    "        sum1 = a+b\n",
    "        return(sum1)\n",
    "    def divide(a,b):\n",
    "        division = a/b\n",
    "        return(division)\n",
    "    return((sum(a,a),sum(b,b)))\n",
    "\n",
    "calculator(10,5)\n",
    "calculator(7,3)\n",
    "\n",
    "#calculator = (a+a)/ (b+b)\n",
    "\n"
   ]
  }
 ],
 "metadata": {
  "kernelspec": {
   "display_name": "Python 3",
   "language": "python",
   "name": "python3"
  },
  "language_info": {
   "codemirror_mode": {
    "name": "ipython",
    "version": 3
   },
   "file_extension": ".py",
   "mimetype": "text/x-python",
   "name": "python",
   "nbconvert_exporter": "python",
   "pygments_lexer": "ipython3",
   "version": "3.10.11"
  },
  "orig_nbformat": 4
 },
 "nbformat": 4,
 "nbformat_minor": 2
}
