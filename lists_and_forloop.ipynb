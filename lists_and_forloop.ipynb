{
 "cells": [
  {
   "cell_type": "code",
   "execution_count": 40,
   "metadata": {},
   "outputs": [
    {
     "name": "stdout",
     "output_type": "stream",
     "text": [
      "[1, 2, 3, 4, 5, 6, 7, 8, 9, 10, 11, 12, 13, 14, 15, 16, 17, 18, 19, 20, 21, 22, 23, 24, 25]\n",
      "I am at this element: 0\n",
      "0\n",
      "I am at this element: 1\n",
      "2\n",
      "I am at this element: 2\n",
      "4\n",
      "I am at this element: 3\n",
      "6\n",
      "I am at this element: 4\n",
      "8\n",
      "I am at this element: 5\n",
      "10\n",
      "I am at index: 0\n",
      "dog\n",
      "I am at index: 1\n",
      "cat\n",
      "I am at index: 2\n",
      "lizzard\n",
      "I am at index: 3\n",
      "dog\n",
      "0\n",
      "1\n",
      "2\n",
      "3\n",
      "dog\n",
      "cat\n",
      "lizzard\n",
      "dog\n"
     ]
    },
    {
     "data": {
      "text/plain": [
       "'lizzard'"
      ]
     },
     "execution_count": 40,
     "metadata": {},
     "output_type": "execute_result"
    }
   ],
   "source": [
    "list_a = [\"dog\",\"cat\",\"lizzard\",\"dog\"]\n",
    "index=0\n",
    "\n",
    "\n",
    "list[0:2]\n",
    "\n",
    "list[-1]\n",
    "\n",
    "new_list = [[\"dog\",\"guciu\"],[\"cat\", \"leon\"]]\n",
    "new_list[0][0],new_list[1][0]\n",
    "\n",
    "numbers_list = [num for num in range(1, 26)]\n",
    "print(numbers_list)\n",
    "\n",
    "v= [range(6)]\n",
    "\n",
    "for n in range(6):\n",
    "    print(\"I am at this element: \"+str(n))\n",
    "    print(n+n)\n",
    "\n",
    "for i in range(4):\n",
    "    print(\"I am at index:\", i)\n",
    "    print(list_a[i])\n",
    "for iterative_number_in_my_list in range(len(list_a)):\n",
    "    print(iterative_number_in_my_list)\n",
    "\n",
    "for n in list_a:\n",
    "    print(n)\n",
    "\n",
    "index=2\n",
    "list_a[index]\n"
   ]
  },
  {
   "cell_type": "code",
   "execution_count": 42,
   "metadata": {},
   "outputs": [
    {
     "ename": "TypeError",
     "evalue": "unsupported operand type(s) for +: 'int' and 'range'",
     "output_type": "error",
     "traceback": [
      "\u001b[1;31m---------------------------------------------------------------------------\u001b[0m",
      "\u001b[1;31mTypeError\u001b[0m                                 Traceback (most recent call last)",
      "\u001b[1;32mc:\\Users\\hannaengel\\OneDrive - Microsoft\\Desktop May 23\\Python\\viktorias_task1\\lists_and_forloop.ipynb Cell 2\u001b[0m in \u001b[0;36m1\n\u001b[0;32m      <a href='vscode-notebook-cell:/c%3A/Users/hannaengel/OneDrive%20-%20Microsoft/Desktop%20May%2023/Python/viktorias_task1/lists_and_forloop.ipynb#W1sZmlsZQ%3D%3D?line=8'>9</a>\u001b[0m list_a[\u001b[39m1\u001b[39m:\u001b[39m4\u001b[39m:\u001b[39m2\u001b[39m]\n\u001b[0;32m     <a href='vscode-notebook-cell:/c%3A/Users/hannaengel/OneDrive%20-%20Microsoft/Desktop%20May%2023/Python/viktorias_task1/lists_and_forloop.ipynb#W1sZmlsZQ%3D%3D?line=10'>11</a>\u001b[0m list_a\u001b[39m.\u001b[39mpop(\u001b[39m-\u001b[39m\u001b[39m1\u001b[39m)\n\u001b[1;32m---> <a href='vscode-notebook-cell:/c%3A/Users/hannaengel/OneDrive%20-%20Microsoft/Desktop%20May%2023/Python/viktorias_task1/lists_and_forloop.ipynb#W1sZmlsZQ%3D%3D?line=12'>13</a>\u001b[0m \u001b[39msum\u001b[39m(v)\n",
      "\u001b[1;31mTypeError\u001b[0m: unsupported operand type(s) for +: 'int' and 'range'"
     ]
    }
   ],
   "source": [
    "list_a\n",
    "\n",
    "#slicing \n",
    "#pseudocode: list[start:stop-1]\n",
    "list_a[2:4] # items start through stop-1\n",
    "\n",
    "list_a[1:] #start through the rest of array\n",
    "\n",
    "list_a[1:4:2]\n",
    "\n",
    "list_a.pop(-1)\n",
    "\n"
   ]
  },
  {
   "cell_type": "code",
   "execution_count": 21,
   "metadata": {},
   "outputs": [
    {
     "data": {
      "text/plain": [
       "15.4"
      ]
     },
     "execution_count": 21,
     "metadata": {},
     "output_type": "execute_result"
    }
   ],
   "source": [
    "new_range = [0,1,2,3,4, 5.4 ]\n",
    "#sum(new_range)\n",
    "\n",
    "\n",
    "sum(new_range)"
   ]
  },
  {
   "cell_type": "code",
   "execution_count": 15,
   "metadata": {},
   "outputs": [
    {
     "name": "stdout",
     "output_type": "stream",
     "text": [
      "0 0\n",
      "1 cat'\n",
      "2 2\n",
      "3 3\n",
      "4 mouse\"\n",
      "5 5\n",
      "same approach using element in new_range\n",
      "0\n",
      "cat'\n",
      "2\n",
      "3\n",
      "mouse\"\n",
      "5\n",
      "using enumerate\n",
      "0 0\n",
      "1 cat'\n",
      "2 2\n",
      "3 3\n",
      "4 mouse\"\n",
      "5 5\n"
     ]
    }
   ],
   "source": [
    "## you can use any of these in a forloop - future hanna\n",
    "\n",
    "for index in range(len(new_range)):\n",
    "    print(space, new_range[index])\n",
    "\n",
    "print(\"same approach using element in new_range\")\n",
    "\n",
    "for element in new_range:\n",
    "    print(element)\n",
    "\n",
    "print(\"using enumerate\")\n",
    "\n",
    "for index, element in enumerate(new_range):\n",
    "    print(index, element)"
   ]
  },
  {
   "cell_type": "code",
   "execution_count": 29,
   "metadata": {},
   "outputs": [
    {
     "data": {
      "text/plain": [
       "{'adam sandler': 12, 'Hanna': 82, 'Victoria': 42}"
      ]
     },
     "execution_count": 29,
     "metadata": {},
     "output_type": "execute_result"
    }
   ],
   "source": [
    "\n",
    "\n",
    "mock_phonebook = {\n",
    "    \"adam sandler\": 12,\n",
    "    \"Hanna\": 82\n",
    "}\n",
    "\"\"\"for key, value in mock_phonebook:\n",
    "    if key\"\"\"\n",
    "\n",
    "mock_phonebook.update({\"Victoria\":42})\n"
   ]
  },
  {
   "cell_type": "code",
   "execution_count": 32,
   "metadata": {},
   "outputs": [
    {
     "data": {
      "text/plain": [
       "[0, 1, 4, 9, 16, 27.0]"
      ]
     },
     "execution_count": 32,
     "metadata": {},
     "output_type": "execute_result"
    }
   ],
   "source": [
    "\n",
    "\n",
    "\n",
    "empty_list = []\n",
    "\n",
    "\n",
    "#nested_forloops\n",
    "for i, value in enumerate(new_range):\n",
    "    empty_list.append(i*value)\n",
    "\n",
    "\n",
    "empty_list"
   ]
  },
  {
   "cell_type": "code",
   "execution_count": 66,
   "metadata": {},
   "outputs": [
    {
     "data": {
      "text/plain": [
       "(57.0, 57.0)"
      ]
     },
     "execution_count": 66,
     "metadata": {},
     "output_type": "execute_result"
    }
   ],
   "source": [
    "\n",
    "\n",
    "def function_that_adds_values_to_list(existing_list):\n",
    "    empty_list = []\n",
    "    empty_value = 0 # faster than summing lists \n",
    "    \n",
    "    for i, value in enumerate(existing_list): \n",
    "        empty_list.append(i*value)\n",
    "        empty_value += i*value\n",
    "\n",
    "            #empty_list += [i*value] \n",
    "    return sum(empty_list),empty_value\n",
    "\n",
    "\n",
    "function_that_adds_values_to_list(new_range)\n",
    "\n",
    "\n",
    "\n",
    "\n",
    "\n",
    "\n"
   ]
  },
  {
   "cell_type": "code",
   "execution_count": 53,
   "metadata": {},
   "outputs": [
    {
     "data": {
      "text/plain": [
       "[1, 2, 5]"
      ]
     },
     "execution_count": 53,
     "metadata": {},
     "output_type": "execute_result"
    }
   ],
   "source": [
    "[1] + [2,5]"
   ]
  }
 ],
 "metadata": {
  "kernelspec": {
   "display_name": "Python 3",
   "language": "python",
   "name": "python3"
  },
  "language_info": {
   "codemirror_mode": {
    "name": "ipython",
    "version": 3
   },
   "file_extension": ".py",
   "mimetype": "text/x-python",
   "name": "python",
   "nbconvert_exporter": "python",
   "pygments_lexer": "ipython3",
   "version": "3.10.11"
  },
  "orig_nbformat": 4
 },
 "nbformat": 4,
 "nbformat_minor": 2
}
