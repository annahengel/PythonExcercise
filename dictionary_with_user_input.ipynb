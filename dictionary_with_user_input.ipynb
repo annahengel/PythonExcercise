{
 "cells": [
  {
   "cell_type": "code",
   "execution_count": 1,
   "metadata": {},
   "outputs": [
    {
     "name": "stdout",
     "output_type": "stream",
     "text": [
      "What sound does an animal make?\n",
      "---------------------\n"
     ]
    }
   ],
   "source": [
    "\n",
    "\n",
    "\n",
    "\n",
    "#def dog_function(key):\n",
    "    #key = dictionary[key]\n",
    "\n",
    "print('What sound does an animal make?')\n",
    "print('---------------------')\n",
    "input(\"Type the name of the animal:\")\n",
    "\n",
    "list_of_animals = {'Dog': 'woof', 'cat': 'mauw','cow': 'mooo'}\n",
    "\n",
    "choice = input(\"Type the name of the animal:\")\n",
    "if choice == \"dog\":\n",
    "        dog_function()\n",
    "elif choice == \"cat\":\n",
    "        cat_function()\n",
    "elif choice == \"cow\":\n",
    "        cow_function\n",
    "else: print(\"Choose between dog, cat and a cow\")"
   ]
  }
 ],
 "metadata": {
  "kernelspec": {
   "display_name": "Python 3",
   "language": "python",
   "name": "python3"
  },
  "language_info": {
   "codemirror_mode": {
    "name": "ipython",
    "version": 3
   },
   "file_extension": ".py",
   "mimetype": "text/x-python",
   "name": "python",
   "nbconvert_exporter": "python",
   "pygments_lexer": "ipython3",
   "version": "3.10.11"
  },
  "orig_nbformat": 4
 },
 "nbformat": 4,
 "nbformat_minor": 2
}
